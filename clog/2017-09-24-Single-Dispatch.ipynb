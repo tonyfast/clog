{
 "cells": [
  {
   "cell_type": "markdown",
   "metadata": {},
   "source": [
    "# Experimenting with [`singledispatch`](https://docs.python.org/3/library/functools.html#functools.singledispatch)\n",
    "\n",
    "I have used `multipledispatch` quite often, and the API is quite similar to `singledispatch`.  For packages and modules, I would prefer to use `singledispatch` because it is standard lib in python 3."
   ]
  },
  {
   "cell_type": "code",
   "execution_count": 1,
   "metadata": {
    "collapsed": true
   },
   "outputs": [],
   "source": [
    "from functools import singledispatch, partial\n",
    "from typing import *"
   ]
  },
  {
   "cell_type": "markdown",
   "metadata": {},
   "source": [
    "## The experiment\n",
    "\n",
    "Dispatch different callable options for values, sequences, and containers."
   ]
  },
  {
   "cell_type": "code",
   "execution_count": 10,
   "metadata": {
    "collapsed": true
   },
   "outputs": [],
   "source": [
    "@singledispatch\n",
    "def functor(f, *args, **kwargs):\n",
    "    return f(*args, **kwargs) if callable(f) else f\n",
    "    \n",
    "\n",
    "@functor.register(Sequence)\n",
    "def _(fns, *args, **kwargs):\n",
    "    return type(fns)([\n",
    "        functor(f, *args, **kwargs) for f in fns])\n",
    "\n",
    "@functor.register(\n",
    "    issubclass(Mapping, Container) and Container or Mapping\n",
    ")\n",
    "def _(fns, *args, **kwargs):\n",
    "\n",
    "    return type(callables)((\n",
    "        functor(k, *args, **kwargs), \n",
    "        functor(fns[k], *args, **kwargs)\n",
    "    ) for k in fns)\n",
    "        "
   ]
  },
  {
   "cell_type": "code",
   "execution_count": 11,
   "metadata": {
    "collapsed": true
   },
   "outputs": [],
   "source": [
    "assert functor(1) is 1\n",
    "assert functor(lambda x: x, 1) is 1\n",
    "assert functor([lambda x: x], 1) == [1]\n",
    "assert functor([lambda x: x, lambda x: 2*x, ], 1) == [1, 2]"
   ]
  },
  {
   "cell_type": "markdown",
   "metadata": {},
   "source": [
    "### To Do\n",
    "\n",
    "* Add checks for containers and include and ordereddict example.\n",
    "* Redo [ast-dispatch](2017-09-21-Ast-dispatch.html) with singledispatch."
   ]
  },
  {
   "cell_type": "markdown",
   "metadata": {},
   "source": [
    "---\n",
    "\n",
    "This effort will effect [`fidget`](https://github.com/tonyfast/fidget) later."
   ]
  }
 ],
 "metadata": {
  "kernelspec": {
   "display_name": "Python 3",
   "language": "python",
   "name": "python3"
  },
  "language_info": {
   "codemirror_mode": {
    "name": "ipython",
    "version": 3
   },
   "file_extension": ".py",
   "mimetype": "text/x-python",
   "name": "python",
   "nbconvert_exporter": "python",
   "pygments_lexer": "ipython3",
   "version": "3.5.3"
  }
 },
 "nbformat": 4,
 "nbformat_minor": 2
}
