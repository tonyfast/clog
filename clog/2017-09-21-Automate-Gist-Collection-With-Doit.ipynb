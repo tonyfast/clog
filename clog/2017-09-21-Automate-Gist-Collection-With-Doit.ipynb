{
 "cells": [
  {
   "cell_type": "markdown",
   "metadata": {},
   "source": [
    "# Storing local copies of gists.\n",
    "\n",
    "This notebook uses `doit` to download copies of my gists."
   ]
  },
  {
   "cell_type": "code",
   "execution_count": 1,
   "metadata": {},
   "outputs": [],
   "source": [
    "%load_ext doit \n",
    "from toolz.curried import *; from pandas import DataFrame, concat, Series # Can't wildcard pandas when using doit.\n",
    "from doit.tools import create_folder; from pathlib import Path; import requests as r"
   ]
  },
  {
   "cell_type": "markdown",
   "metadata": {},
   "source": [
    "* Access __user__ information to determine the number of gists."
   ]
  },
  {
   "cell_type": "code",
   "execution_count": 2,
   "metadata": {},
   "outputs": [],
   "source": [
    "__user__ = __import__('requests').get('https://api.github.com/users/tonyfast').json()"
   ]
  },
  {
   "cell_type": "markdown",
   "metadata": {},
   "source": [
    "* Iterate over the index of gists provided by Github returning a dataframe"
   ]
  },
  {
   "cell_type": "code",
   "execution_count": 3,
   "metadata": {},
   "outputs": [],
   "source": [
    "df = concat([\n",
    "    DataFrame(__import__('requests').get(__user__['gists_url'].replace('{/gist_id}', '?page=')+str(i+1)).json()) for i in range(__user__['public_gists']//30)]).set_index('id')\n",
    "\n",
    "files = concat([\n",
    "    df.files.apply(compose(Series, list, pluck(_), dict.values)).stack().rename(_)\n",
    "    for _ in ['filename', 'raw_url']], axis=1)"
   ]
  },
  {
   "cell_type": "code",
   "execution_count": 10,
   "metadata": {},
   "outputs": [
    {
     "data": {
      "text/html": [
       "<div>\n",
       "<table border=\"1\" class=\"dataframe\">\n",
       "  <thead>\n",
       "    <tr style=\"text-align: right;\">\n",
       "      <th></th>\n",
       "      <th>comments</th>\n",
       "      <th>comments_url</th>\n",
       "      <th>commits_url</th>\n",
       "      <th>created_at</th>\n",
       "      <th>description</th>\n",
       "      <th>files</th>\n",
       "      <th>forks_url</th>\n",
       "      <th>git_pull_url</th>\n",
       "      <th>git_push_url</th>\n",
       "      <th>html_url</th>\n",
       "      <th>owner</th>\n",
       "      <th>public</th>\n",
       "      <th>truncated</th>\n",
       "      <th>updated_at</th>\n",
       "      <th>url</th>\n",
       "      <th>user</th>\n",
       "    </tr>\n",
       "    <tr>\n",
       "      <th>id</th>\n",
       "      <th></th>\n",
       "      <th></th>\n",
       "      <th></th>\n",
       "      <th></th>\n",
       "      <th></th>\n",
       "      <th></th>\n",
       "      <th></th>\n",
       "      <th></th>\n",
       "      <th></th>\n",
       "      <th></th>\n",
       "      <th></th>\n",
       "      <th></th>\n",
       "      <th></th>\n",
       "      <th></th>\n",
       "      <th></th>\n",
       "      <th></th>\n",
       "    </tr>\n",
       "  </thead>\n",
       "  <tbody>\n",
       "    <tr>\n",
       "      <th>3e8c3f3f175498cb555c</th>\n",
       "      <td>0</td>\n",
       "      <td>https://api.github.com/gists/3e8c3f3f175498cb5...</td>\n",
       "      <td>https://api.github.com/gists/3e8c3f3f175498cb5...</td>\n",
       "      <td>2016-02-04T20:33:45Z</td>\n",
       "      <td></td>\n",
       "      <td>{'Untitled49.ipynb': {'size': 5032, 'filename'...</td>\n",
       "      <td>https://api.github.com/gists/3e8c3f3f175498cb5...</td>\n",
       "      <td>https://gist.github.com/3e8c3f3f175498cb555c.git</td>\n",
       "      <td>https://gist.github.com/3e8c3f3f175498cb555c.git</td>\n",
       "      <td>https://gist.github.com/3e8c3f3f175498cb555c</td>\n",
       "      <td>{'login': 'tonyfast', 'id': 4236275, 'repos_ur...</td>\n",
       "      <td>True</td>\n",
       "      <td>False</td>\n",
       "      <td>2016-02-04T21:01:30Z</td>\n",
       "      <td>https://api.github.com/gists/3e8c3f3f175498cb555c</td>\n",
       "      <td>None</td>\n",
       "    </tr>\n",
       "    <tr>\n",
       "      <th>50be713105222e420f34fe78dc7a94bc</th>\n",
       "      <td>0</td>\n",
       "      <td>https://api.github.com/gists/50be713105222e420...</td>\n",
       "      <td>https://api.github.com/gists/50be713105222e420...</td>\n",
       "      <td>2016-08-13T17:50:42Z</td>\n",
       "      <td></td>\n",
       "      <td>{'readme.md': {'size': 24, 'filename': 'readme...</td>\n",
       "      <td>https://api.github.com/gists/50be713105222e420...</td>\n",
       "      <td>https://gist.github.com/50be713105222e420f34fe...</td>\n",
       "      <td>https://gist.github.com/50be713105222e420f34fe...</td>\n",
       "      <td>https://gist.github.com/50be713105222e420f34fe...</td>\n",
       "      <td>{'login': 'tonyfast', 'id': 4236275, 'repos_ur...</td>\n",
       "      <td>True</td>\n",
       "      <td>False</td>\n",
       "      <td>2016-08-13T17:55:45Z</td>\n",
       "      <td>https://api.github.com/gists/50be713105222e420...</td>\n",
       "      <td>None</td>\n",
       "    </tr>\n",
       "  </tbody>\n",
       "</table>\n",
       "</div>"
      ],
      "text/plain": [
       "                                  comments  \\\n",
       "id                                           \n",
       "3e8c3f3f175498cb555c                     0   \n",
       "50be713105222e420f34fe78dc7a94bc         0   \n",
       "\n",
       "                                                                       comments_url  \\\n",
       "id                                                                                    \n",
       "3e8c3f3f175498cb555c              https://api.github.com/gists/3e8c3f3f175498cb5...   \n",
       "50be713105222e420f34fe78dc7a94bc  https://api.github.com/gists/50be713105222e420...   \n",
       "\n",
       "                                                                        commits_url  \\\n",
       "id                                                                                    \n",
       "3e8c3f3f175498cb555c              https://api.github.com/gists/3e8c3f3f175498cb5...   \n",
       "50be713105222e420f34fe78dc7a94bc  https://api.github.com/gists/50be713105222e420...   \n",
       "\n",
       "                                            created_at description  \\\n",
       "id                                                                   \n",
       "3e8c3f3f175498cb555c              2016-02-04T20:33:45Z               \n",
       "50be713105222e420f34fe78dc7a94bc  2016-08-13T17:50:42Z               \n",
       "\n",
       "                                                                              files  \\\n",
       "id                                                                                    \n",
       "3e8c3f3f175498cb555c              {'Untitled49.ipynb': {'size': 5032, 'filename'...   \n",
       "50be713105222e420f34fe78dc7a94bc  {'readme.md': {'size': 24, 'filename': 'readme...   \n",
       "\n",
       "                                                                          forks_url  \\\n",
       "id                                                                                    \n",
       "3e8c3f3f175498cb555c              https://api.github.com/gists/3e8c3f3f175498cb5...   \n",
       "50be713105222e420f34fe78dc7a94bc  https://api.github.com/gists/50be713105222e420...   \n",
       "\n",
       "                                                                       git_pull_url  \\\n",
       "id                                                                                    \n",
       "3e8c3f3f175498cb555c               https://gist.github.com/3e8c3f3f175498cb555c.git   \n",
       "50be713105222e420f34fe78dc7a94bc  https://gist.github.com/50be713105222e420f34fe...   \n",
       "\n",
       "                                                                       git_push_url  \\\n",
       "id                                                                                    \n",
       "3e8c3f3f175498cb555c               https://gist.github.com/3e8c3f3f175498cb555c.git   \n",
       "50be713105222e420f34fe78dc7a94bc  https://gist.github.com/50be713105222e420f34fe...   \n",
       "\n",
       "                                                                           html_url  \\\n",
       "id                                                                                    \n",
       "3e8c3f3f175498cb555c                   https://gist.github.com/3e8c3f3f175498cb555c   \n",
       "50be713105222e420f34fe78dc7a94bc  https://gist.github.com/50be713105222e420f34fe...   \n",
       "\n",
       "                                                                              owner  \\\n",
       "id                                                                                    \n",
       "3e8c3f3f175498cb555c              {'login': 'tonyfast', 'id': 4236275, 'repos_ur...   \n",
       "50be713105222e420f34fe78dc7a94bc  {'login': 'tonyfast', 'id': 4236275, 'repos_ur...   \n",
       "\n",
       "                                 public truncated            updated_at  \\\n",
       "id                                                                        \n",
       "3e8c3f3f175498cb555c               True     False  2016-02-04T21:01:30Z   \n",
       "50be713105222e420f34fe78dc7a94bc   True     False  2016-08-13T17:55:45Z   \n",
       "\n",
       "                                                                                url  \\\n",
       "id                                                                                    \n",
       "3e8c3f3f175498cb555c              https://api.github.com/gists/3e8c3f3f175498cb555c   \n",
       "50be713105222e420f34fe78dc7a94bc  https://api.github.com/gists/50be713105222e420...   \n",
       "\n",
       "                                  user  \n",
       "id                                      \n",
       "3e8c3f3f175498cb555c              None  \n",
       "50be713105222e420f34fe78dc7a94bc  None  "
      ]
     },
     "execution_count": 10,
     "metadata": {},
     "output_type": "execute_result"
    }
   ],
   "source": [
    "df.sample(2)"
   ]
  },
  {
   "cell_type": "code",
   "execution_count": 11,
   "metadata": {},
   "outputs": [
    {
     "data": {
      "text/plain": [
       "390"
      ]
     },
     "execution_count": 11,
     "metadata": {},
     "output_type": "execute_result"
    }
   ],
   "source": [
    "len(df)"
   ]
  },
  {
   "cell_type": "code",
   "execution_count": 22,
   "metadata": {},
   "outputs": [],
   "source": [
    "def download(url, to):\n",
    "    \"\"\"Download a url and write it to file.\"\"\"\n",
    "    print(to)\n",
    "    try: to.write_text(r.get(url).text); return True\n",
    "    except: return False"
   ]
  },
  {
   "cell_type": "markdown",
   "metadata": {},
   "source": [
    "* Establish a `doit` task to download only the notebooks.  Effort can be placed here to make a command line api."
   ]
  },
  {
   "cell_type": "code",
   "execution_count": 25,
   "metadata": {},
   "outputs": [],
   "source": [
    "def task_store_nb_gists():    \n",
    "    for (name, i), s in files.drop_duplicates().iterrows():\n",
    "        if Path(s.loc['filename']).suffix == '.ipynb':\n",
    "            i = str(i)\n",
    "            name = Path('~/gists') / name / i / s.loc['filename']\n",
    "            yield dict(\n",
    "                name=name, targets=[name], actions=[\n",
    "                    (create_folder, [str(name.parent)]),\n",
    "                    (download, [s.loc['raw_url'], name])])\n",
    "    "
   ]
  },
  {
   "cell_type": "markdown",
   "metadata": {},
   "source": [
    "* Run the task and download all the notebooks"
   ]
  },
  {
   "cell_type": "code",
   "execution_count": null,
   "metadata": {},
   "outputs": [],
   "source": [
    "%doit store_nb_gists"
   ]
  }
 ],
 "metadata": {
  "kernelspec": {
   "display_name": "Python 3",
   "language": "python",
   "name": "python3"
  },
  "language_info": {
   "codemirror_mode": {
    "name": "ipython",
    "version": 3
   },
   "file_extension": ".py",
   "mimetype": "text/x-python",
   "name": "python",
   "nbconvert_exporter": "python",
   "pygments_lexer": "ipython3",
   "version": "3.5.3"
  }
 },
 "nbformat": 4,
 "nbformat_minor": 2
}
