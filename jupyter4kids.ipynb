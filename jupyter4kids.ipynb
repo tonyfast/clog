{
 "cells": [
  {
   "cell_type": "markdown",
   "metadata": {},
   "source": [
    "Jupyter for kids jam session\n",
    "\n",
    "> We wanted to explore data-driven cirriculum analysis."
   ]
  },
  {
   "cell_type": "code",
   "execution_count": 1,
   "metadata": {},
   "outputs": [],
   "source": [
    "from ast import literal_eval\n",
    "from toolz.curried import *\n",
    "from pandas import *\n",
    "import requests\n",
    "%reload_ext importable\n",
    "api = __import__('2017-09-10-Project-Statistics')"
   ]
  },
  {
   "cell_type": "code",
   "execution_count": 2,
   "metadata": {},
   "outputs": [],
   "source": [
    "url = 'https://api.github.com/repos/' + 'mikkokotila/jupyter4kids'\n",
    "df = api._get_(url+'/contents/notebooks')"
   ]
  },
  {
   "cell_type": "code",
   "execution_count": 3,
   "metadata": {},
   "outputs": [],
   "source": [
    "y = (df.download_url\n",
    " .apply(__import__('requests').get)\n",
    " .apply(requests.Response.json)\n",
    " .apply(io.json.json_normalize)\n",
    ").pipe(lambda s: concat(dict(zip(df.name, s.tolist()))))"
   ]
  },
  {
   "cell_type": "code",
   "execution_count": 4,
   "metadata": {},
   "outputs": [],
   "source": [
    "cells = y.cells.apply(DataFrame).reset_index(-1).cells.pipe(lambda df: concat(dict(df.items())))"
   ]
  },
  {
   "cell_type": "code",
   "execution_count": 5,
   "metadata": {},
   "outputs": [],
   "source": [
    "_the_values_ = (cells[['outputs']]\n",
    " .dropna()\n",
    " .outputs.apply(DataFrame)\n",
    " .pipe(lambda df: concat(dict(df.items())))\n",
    " .data.dropna()).apply(compose(first, first, dict.values))"
   ]
  },
  {
   "cell_type": "code",
   "execution_count": 6,
   "metadata": {},
   "outputs": [],
   "source": [
    "def evil(str):\n",
    "    try: return literal_eval(str)\n",
    "    except: return __builtin__.__dict__[str]"
   ]
  },
  {
   "cell_type": "code",
   "execution_count": 7,
   "metadata": {},
   "outputs": [
    {
     "data": {
      "text/plain": [
       "<matplotlib.axes._subplots.AxesSubplot at 0x105a96b00>"
      ]
     },
     "execution_count": 7,
     "metadata": {},
     "output_type": "execute_result"
    },
    {
     "data": {
      "image/png": "[encoded data removed]",
      "text/plain": [
       "<matplotlib.figure.Figure at 0x11058a860>"
      ]
     },
     "metadata": {},
     "output_type": "display_data"
    }
   ],
   "source": [
    "_the_values_.reset_index([1,2], drop=True).apply(evil).apply(type).value_counts().plot.bar()"
   ]
  },
  {
   "cell_type": "code",
   "execution_count": null,
   "metadata": {},
   "outputs": [],
   "source": []
  }
 ],
 "metadata": {
  "kernelspec": {
   "display_name": "Python 3",
   "language": "python",
   "name": "python3"
  },
  "language_info": {
   "codemirror_mode": {
    "name": "ipython",
    "version": 3
   },
   "file_extension": ".py",
   "mimetype": "text/x-python",
   "name": "python",
   "nbconvert_exporter": "python",
   "pygments_lexer": "ipython3",
   "version": "3.5.3"
  }
 },
 "nbformat": 4,
 "nbformat_minor": 2
}
