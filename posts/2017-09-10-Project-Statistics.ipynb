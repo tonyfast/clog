{
 "cells": [
  {
   "cell_type": "markdown",
   "metadata": {},
   "source": [
    "Use pandas to explore Github's repository statistics api`...`\n",
    "\n",
    "> [The Repository Statistics API allows you to fetch the data that GitHub uses for visualizing different types of repository activity.](https://developer.github.com/v3/repos/statistics/)"
   ]
  },
  {
   "cell_type": "code",
   "execution_count": 1,
   "metadata": {
    "collapsed": true
   },
   "outputs": [],
   "source": [
    "%matplotlib inline\n",
    "from toolz.curried import *; from matplotlib.pyplot import *; from pandas import *\n",
    "import seaborn as sns; s, df = Series, DataFrame\n",
    "o = __name__ == '__main__'"
   ]
  },
  {
   "cell_type": "markdown",
   "metadata": {},
   "source": [
    "# Analyzing Github Repository Statistics with Pandas\n",
    "\n",
    "## Requests to the Github Statistics API.\n",
    "\n",
    "The first _request_ computes the repo statistics returning a `202` status code.  With sufficient delay the next _request_ will return a `200` code that becomes our dataframe."
   ]
  },
  {
   "cell_type": "code",
   "execution_count": 29,
   "metadata": {},
   "outputs": [],
   "source": [
    "url = 'https://api.github.com/repos/' + 'nteract/nteract'\n",
    "def _request_(response):\n",
    "    \"\"\"Access a github api that returns a 202 status_code.\"\"\"\n",
    "    if type(response) is str: response = __import__('requests').get(response)\n",
    "    return (__import__('time').sleep(1) or consume(response) if response.status_code is 202 else DataFrame(response.json()) )\n",
    "_get_ = memoize(lambda x: _request_(x))"
   ]
  },
  {
   "cell_type": "markdown",
   "metadata": {},
   "source": [
    "## Commit Activity\n",
    "\n",
    "> [Get the last year of commit activity data](https://developer.github.com/v3/repos/statistics/#get-the-last-year-of-commit-activity-data)"
   ]
  },
  {
   "cell_type": "code",
   "execution_count": 18,
   "metadata": {},
   "outputs": [
    {
     "data": {
      "text/html": [
       "<div>\n",
       "<table border=\"1\" class=\"dataframe\">\n",
       "  <thead>\n",
       "    <tr>\n",
       "      <th></th>\n",
       "      <th colspan=\"7\" halign=\"left\">commits</th>\n",
       "    </tr>\n",
       "    <tr>\n",
       "      <th>dayofweek</th>\n",
       "      <th>0</th>\n",
       "      <th>1</th>\n",
       "      <th>2</th>\n",
       "      <th>3</th>\n",
       "      <th>4</th>\n",
       "      <th>5</th>\n",
       "      <th>6</th>\n",
       "    </tr>\n",
       "  </thead>\n",
       "  <tbody>\n",
       "    <tr>\n",
       "      <th>2016-09-18</th>\n",
       "      <td>8</td>\n",
       "      <td>11</td>\n",
       "      <td>1</td>\n",
       "      <td>13</td>\n",
       "      <td>14</td>\n",
       "      <td>15</td>\n",
       "      <td>7</td>\n",
       "    </tr>\n",
       "    <tr>\n",
       "      <th>2016-09-25</th>\n",
       "      <td>6</td>\n",
       "      <td>10</td>\n",
       "      <td>6</td>\n",
       "      <td>16</td>\n",
       "      <td>16</td>\n",
       "      <td>5</td>\n",
       "      <td>9</td>\n",
       "    </tr>\n",
       "    <tr>\n",
       "      <th>2016-10-02</th>\n",
       "      <td>12</td>\n",
       "      <td>10</td>\n",
       "      <td>22</td>\n",
       "      <td>38</td>\n",
       "      <td>5</td>\n",
       "      <td>21</td>\n",
       "      <td>3</td>\n",
       "    </tr>\n",
       "    <tr>\n",
       "      <th>2016-10-09</th>\n",
       "      <td>19</td>\n",
       "      <td>24</td>\n",
       "      <td>5</td>\n",
       "      <td>12</td>\n",
       "      <td>30</td>\n",
       "      <td>19</td>\n",
       "      <td>14</td>\n",
       "    </tr>\n",
       "    <tr>\n",
       "      <th>2016-10-16</th>\n",
       "      <td>11</td>\n",
       "      <td>4</td>\n",
       "      <td>3</td>\n",
       "      <td>13</td>\n",
       "      <td>1</td>\n",
       "      <td>3</td>\n",
       "      <td>7</td>\n",
       "    </tr>\n",
       "  </tbody>\n",
       "</table>\n",
       "</div>"
      ],
      "text/plain": [
       "           commits                        \n",
       "dayofweek        0   1   2   3   4   5   6\n",
       "2016-09-18       8  11   1  13  14  15   7\n",
       "2016-09-25       6  10   6  16  16   5   9\n",
       "2016-10-02      12  10  22  38   5  21   3\n",
       "2016-10-09      19  24   5  12  30  19  14\n",
       "2016-10-16      11   4   3  13   1   3   7"
      ]
     },
     "execution_count": 18,
     "metadata": {},
     "output_type": "execute_result"
    }
   ],
   "source": [
    "if o:\n",
    "    df = _get_(url+'/stats/commit_activity')\n",
    "    df.week = df.week.pipe(to_datetime, unit='s')\n",
    "\n",
    "    ts = df.days.apply(compose(Series, dict, enumerate))\n",
    "    ts.columns = to_timedelta(ts.columns.map(\"{} days\".format))\n",
    "    ts = ts.set_index(df.week).stack().reset_index().pipe(\n",
    "        lambda df: DataFrame(df[0].values, df.week.add(df.level_1))).rename(columns={0: 'commits'})\n",
    "    ts = ts.set_index(MultiIndex.from_arrays([\n",
    "        to_datetime(sum(df.week.apply(lambda x: [x]*7).tolist(), [])),\n",
    "        Index(ts.index.dayofweek, name='dayofweek')])).unstack(-1)\n",
    "    ts.head()"
   ]
  },
  {
   "cell_type": "markdown",
   "metadata": {},
   "source": [
    "## Code Frequency\n",
    "\n",
    "> [Returns a weekly aggregate of the number of additions and deletions pushed to a repository.](https://developer.github.com/v3/repos/statistics/#get-the-number-of-additions-and-deletions-per-week)"
   ]
  },
  {
   "cell_type": "code",
   "execution_count": 20,
   "metadata": {},
   "outputs": [
    {
     "data": {
      "text/html": [
       "<div>\n",
       "<table border=\"1\" class=\"dataframe\">\n",
       "  <thead>\n",
       "    <tr style=\"text-align: right;\">\n",
       "      <th></th>\n",
       "      <th>+</th>\n",
       "      <th>-</th>\n",
       "    </tr>\n",
       "    <tr>\n",
       "      <th>time</th>\n",
       "      <th></th>\n",
       "      <th></th>\n",
       "    </tr>\n",
       "  </thead>\n",
       "  <tbody>\n",
       "    <tr>\n",
       "      <th>2017-08-13</th>\n",
       "      <td>2970</td>\n",
       "      <td>-2080</td>\n",
       "    </tr>\n",
       "    <tr>\n",
       "      <th>2017-08-20</th>\n",
       "      <td>82</td>\n",
       "      <td>-3</td>\n",
       "    </tr>\n",
       "    <tr>\n",
       "      <th>2017-08-27</th>\n",
       "      <td>985</td>\n",
       "      <td>-108</td>\n",
       "    </tr>\n",
       "    <tr>\n",
       "      <th>2017-09-03</th>\n",
       "      <td>12164</td>\n",
       "      <td>-16174</td>\n",
       "    </tr>\n",
       "    <tr>\n",
       "      <th>2017-09-10</th>\n",
       "      <td>9</td>\n",
       "      <td>-9</td>\n",
       "    </tr>\n",
       "  </tbody>\n",
       "</table>\n",
       "</div>"
      ],
      "text/plain": [
       "                +      -\n",
       "time                    \n",
       "2017-08-13   2970  -2080\n",
       "2017-08-20     82     -3\n",
       "2017-08-27    985   -108\n",
       "2017-09-03  12164 -16174\n",
       "2017-09-10      9     -9"
      ]
     },
     "execution_count": 20,
     "metadata": {},
     "output_type": "execute_result"
    }
   ],
   "source": [
    "if o:\n",
    "    code_freq = Get(url+'/stats/code_frequency')\n",
    "    code_freq.columns = ['time', *'+-']\n",
    "    code_freq = code_freq.pipe(\n",
    "        lambda df: setattr(df, 'time', df.time.pipe(to_datetime, unit='s')) or df).set_index('time')\n",
    "    code_freq.tail()"
   ]
  },
  {
   "cell_type": "markdown",
   "metadata": {},
   "source": [
    "## The Join"
   ]
  },
  {
   "cell_type": "code",
   "execution_count": 21,
   "metadata": {},
   "outputs": [
    {
     "data": {
      "text/html": [
       "<div>\n",
       "<table border=\"1\" class=\"dataframe\">\n",
       "  <thead>\n",
       "    <tr>\n",
       "      <th></th>\n",
       "      <th colspan=\"2\" halign=\"left\">freq</th>\n",
       "      <th colspan=\"7\" halign=\"left\">commits</th>\n",
       "    </tr>\n",
       "    <tr>\n",
       "      <th></th>\n",
       "      <th>+</th>\n",
       "      <th>-</th>\n",
       "      <th>0</th>\n",
       "      <th>1</th>\n",
       "      <th>2</th>\n",
       "      <th>3</th>\n",
       "      <th>4</th>\n",
       "      <th>5</th>\n",
       "      <th>6</th>\n",
       "    </tr>\n",
       "  </thead>\n",
       "  <tbody>\n",
       "    <tr>\n",
       "      <th>2017-04-16</th>\n",
       "      <td>744</td>\n",
       "      <td>-659</td>\n",
       "      <td>3.0</td>\n",
       "      <td>3.0</td>\n",
       "      <td>2.0</td>\n",
       "      <td>0.0</td>\n",
       "      <td>0.0</td>\n",
       "      <td>1.0</td>\n",
       "      <td>1.0</td>\n",
       "    </tr>\n",
       "    <tr>\n",
       "      <th>2017-06-11</th>\n",
       "      <td>1</td>\n",
       "      <td>-1</td>\n",
       "      <td>0.0</td>\n",
       "      <td>1.0</td>\n",
       "      <td>0.0</td>\n",
       "      <td>0.0</td>\n",
       "      <td>0.0</td>\n",
       "      <td>0.0</td>\n",
       "      <td>0.0</td>\n",
       "    </tr>\n",
       "    <tr>\n",
       "      <th>2016-12-11</th>\n",
       "      <td>197</td>\n",
       "      <td>-78</td>\n",
       "      <td>2.0</td>\n",
       "      <td>2.0</td>\n",
       "      <td>3.0</td>\n",
       "      <td>0.0</td>\n",
       "      <td>3.0</td>\n",
       "      <td>0.0</td>\n",
       "      <td>8.0</td>\n",
       "    </tr>\n",
       "  </tbody>\n",
       "</table>\n",
       "</div>"
      ],
      "text/plain": [
       "           freq      commits                              \n",
       "              +    -       0    1    2    3    4    5    6\n",
       "2017-04-16  744 -659     3.0  3.0  2.0  0.0  0.0  1.0  1.0\n",
       "2017-06-11    1   -1     0.0  1.0  0.0  0.0  0.0  0.0  0.0\n",
       "2016-12-11  197  -78     2.0  2.0  3.0  0.0  3.0  0.0  8.0"
      ]
     },
     "execution_count": 21,
     "metadata": {},
     "output_type": "execute_result"
    }
   ],
   "source": [
    "if o:\n",
    "    ts = concat([concat({'freq': code_freq}, axis=1), ts], axis=1)\n",
    "    ts.dropna().sample(3)"
   ]
  },
  {
   "cell_type": "code",
   "execution_count": null,
   "metadata": {},
   "outputs": [],
   "source": []
  },
  {
   "cell_type": "code",
   "execution_count": 22,
   "metadata": {},
   "outputs": [
    {
     "data": {
      "text/plain": [
       "<matplotlib.text.Text at 0x120879390>"
      ]
     },
     "execution_count": 22,
     "metadata": {},
     "output_type": "execute_result"
    },
    {
     "data": {
      "image/png": "[encoded data removed]",
      "text/plain": [
       "<matplotlib.figure.Figure at 0x120826048>"
      ]
     },
     "metadata": {},
     "output_type": "display_data"
    }
   ],
   "source": [
    "if o:\n",
    "    ts.dropna().freq.groupby(TimeGrouper('1M')).sum().plot.bar(stacked=True, figsize=(12, 6))\n",
    "    ylabel('lines of code')"
   ]
  }
 ],
 "metadata": {
  "kernelspec": {
   "display_name": "Python 3",
   "language": "python",
   "name": "python3"
  },
  "language_info": {
   "codemirror_mode": {
    "name": "ipython",
    "version": 3
   },
   "file_extension": ".py",
   "mimetype": "text/x-python",
   "name": "python",
   "nbconvert_exporter": "python",
   "pygments_lexer": "ipython3",
   "version": "3.5.3"
  }
 },
 "nbformat": 4,
 "nbformat_minor": 2
}
