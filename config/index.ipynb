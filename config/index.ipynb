{
 "cells": [
  {
   "cell_type": "markdown",
   "metadata": {},
   "source": [
    "# forever whatever\n",
    "\n",
    "`tonyfast`'s daily code.  \n",
    "\n",
    "[github](https://github.com/tonyfast) 🔗 [gist](https://gist.github.com/tonyfast) 🔗 [linkedin](https://www.linkedin.com/in/tonyfast/) 🔗 [slideshare](https://www.slideshare.net/tonyfast1) 🔗 [instagram](https://www.instagram.com/docfast/) 🔗 [twitter]( 🔗 [Resume](TonyFastProfile.pdf) 🔗 [works in progress](https://github.com/tonyfast/wip)"
   ]
  }
 ],
 "metadata": {
  "kernelspec": {
   "display_name": "Python 3",
   "language": "python",
   "name": "python3"
  },
  "language_info": {
   "codemirror_mode": {
    "name": "ipython",
    "version": 3
   },
   "file_extension": ".py",
   "mimetype": "text/x-python",
   "name": "python",
   "nbconvert_exporter": "python",
   "pygments_lexer": "ipython3",
   "version": "3.5.3"
  }
 },
 "nbformat": 4,
 "nbformat_minor": 2
}
