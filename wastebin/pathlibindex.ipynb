{
 "cells": [
  {
   "cell_type": "markdown",
   "metadata": {},
   "source": [
    "# Creating a custom Index in Pandas\n",
    "\n",
    "The pandas.Datetimeindex is the jam because of the extra properties that access portions of the time.  I'd really like a `pathlib` version of this, `...` and a `luigi` target version."
   ]
  },
  {
   "cell_type": "code",
   "execution_count": 1,
   "metadata": {},
   "outputs": [],
   "source": [
    "from pathlib import Path, PurePath, os\n",
    "from pandas import Index, Series, DataFrame; import pandas as pd\n",
    "from toolz.curried.operator import *; from toolz.curried import *"
   ]
  },
  {
   "cell_type": "markdown",
   "metadata": {},
   "source": [
    "## Using typing information as data\n",
    "\n",
    "`pathlib` has an annotated type file in `typeshed`.  The script below makes the annotations importable."
   ]
  },
  {
   "cell_type": "code",
   "execution_count": 2,
   "metadata": {},
   "outputs": [],
   "source": [
    "def get_types(file):\n",
    "    \"\"\"Search for typeshed files in the sys path; requires mypy.\"\"\"\n",
    "    assert str(file).endswith('.pyi')\n",
    "    locals().update(globals()) or exec(next(Path(__import__('sys').prefix).rglob(file)).read_text(), locals())\n",
    "    return __import__('argparse').Namespace(**locals())\n",
    "\n",
    "types = get_types('pathlib.pyi')\n",
    "target = types.Path"
   ]
  },
  {
   "cell_type": "markdown",
   "metadata": {},
   "source": [
    "The  __annotations__ for `Path`'s attributes are held in `target`; _this is a function parameter later_."
   ]
  },
  {
   "cell_type": "code",
   "execution_count": 3,
   "metadata": {},
   "outputs": [],
   "source": [
    "def method(x, target=target):\n",
    "    \"\"\"Get annotations from bound methods and properties.s\"\"\"\n",
    "    if isinstance(x, property):\n",
    "        return getattr(target, x.fget.__name__).fget.__annotations__['return']\n",
    "    attr = getattr(x, '__name__', None)\n",
    "    if attr in dir(target):\n",
    "        return getattr(getattr(target, attr), '__annotations__', {}).get('return', None)"
   ]
  },
  {
   "cell_type": "markdown",
   "metadata": {},
   "source": [
    "`returns` is an object of the attributes and their return `type`."
   ]
  },
  {
   "cell_type": "code",
   "execution_count": 4,
   "metadata": {},
   "outputs": [
    {
     "data": {
      "text/html": [
       "<div>\n",
       "<table border=\"1\" class=\"dataframe\">\n",
       "  <thead>\n",
       "    <tr style=\"text-align: right;\">\n",
       "      <th></th>\n",
       "      <th>&lt;class 'os.stat_result'&gt;</th>\n",
       "      <th>None</th>\n",
       "      <th>None</th>\n",
       "      <th>&lt;class 'str'&gt;</th>\n",
       "      <th>typing.Generator[pathlib.Path, NoneType, NoneType]</th>\n",
       "      <th>&lt;class 'bool'&gt;</th>\n",
       "      <th>None</th>\n",
       "      <th>None</th>\n",
       "      <th>&lt;class 'bool'&gt;</th>\n",
       "      <th>None</th>\n",
       "    </tr>\n",
       "  </thead>\n",
       "  <tbody>\n",
       "    <tr>\n",
       "      <th>index</th>\n",
       "      <td>lstat</td>\n",
       "      <td>rename</td>\n",
       "      <td>rmdir</td>\n",
       "      <td>read_text</td>\n",
       "      <td>glob</td>\n",
       "      <td>is_symlink</td>\n",
       "      <td>unlink</td>\n",
       "      <td>root</td>\n",
       "      <td>samefile</td>\n",
       "      <td>chmod</td>\n",
       "    </tr>\n",
       "  </tbody>\n",
       "</table>\n",
       "</div>"
      ],
      "text/plain": [
       "0     <class 'os.stat_result'>    None   None <class 'str'>  \\\n",
       "index                    lstat  rename  rmdir     read_text   \n",
       "\n",
       "0     typing.Generator[pathlib.Path, NoneType, NoneType] <class 'bool'>  \\\n",
       "index                                               glob     is_symlink   \n",
       "\n",
       "0        None  None <class 'bool'>   None  \n",
       "index  unlink  root       samefile  chmod  "
      ]
     },
     "execution_count": 4,
     "metadata": {},
     "output_type": "execute_result"
    }
   ],
   "source": [
    "returns = pipe(\n",
    "    target, dir, filter(compose(str.isalpha, first)), \n",
    "    map(juxt(identity, curry(getattr)(target))),\n",
    "    dict, valmap(method))\n",
    "\n",
    "Series(returns).astype(str).to_frame().reset_index().set_index(0).sort_index().sample(10).T"
   ]
  },
  {
   "cell_type": "markdown",
   "metadata": {},
   "source": [
    "> A small sample of the type to attribute mapping."
   ]
  },
  {
   "cell_type": "code",
   "execution_count": 5,
   "metadata": {},
   "outputs": [],
   "source": [
    "from functools import wraps\n",
    "\n",
    "class PathIndex(Index):\n",
    "    def __new__(cls, data=None, dtype=None, copy=False, name=None, fastpath=False, tupleize_cols=True, **kwargs):\n",
    "        if isiterable(data) and not isinstance(data, Index):\n",
    "            data = cls._coerce_to_ndarray(map(Path, data))\n",
    "        result = cls._simple_new(data, name, dtype, copy=copy, fastpath=fastpath, tupleize_cols=tupleize_cols, **kwargs)\n",
    "        return result\n",
    "    \n",
    "    def __getattribute__(self, name):\n",
    "        try:\n",
    "            return super().__getattribute__(name)\n",
    "        except AttributeError as e:\n",
    "            attr = getattr(Path, name, None)\n",
    "            \n",
    "            # The name is wrong!\n",
    "            if not attr: raise e\n",
    "            \n",
    "            cls = type_mapper[method(attr)]\n",
    "            \n",
    "            # There is no way to interpret the attribute\n",
    "            if cls is False: raise NotImplemented\n",
    "            \n",
    "            \n",
    "            if isinstance(attr, property): #  return computed values, not a callable.\n",
    "                return (self if cls is None else cls(self.map(attrgetter(name))))\n",
    "\n",
    "            # wrap a callable for later.\n",
    "            @wraps(attr)\n",
    "            def mapper(*args, **kwargs):                        \n",
    "                if cls is None: return self        \n",
    "                result = cls(self.map(partial(lambda v: attr(v, *args, **kwargs))))\n",
    "                if isinstance(result, (Series, DataFrame)):\n",
    "                    result.index = self\n",
    "                return result\n",
    "            return mapper\n",
    "            \n",
    "    def __truediv__(self, value):\n",
    "        return type(self)(self.map(flip(Path.__truediv__)(value)))\n",
    "    \n",
    "    def __rtruediv__(self, value):\n",
    "        return type(self)(self.map(flip(Path.__rtruediv__)(value)))\n",
    "\n",
    "    def __dir__(self):\n",
    "        \"\"\"Update the available attribute.\"\"\"\n",
    "        return list(super().__dir__()) + dir(Path)"
   ]
  },
  {
   "cell_type": "code",
   "execution_count": 6,
   "metadata": {},
   "outputs": [],
   "source": [
    "type_mapper = {\n",
    "    bool: Index,\n",
    "    types._P: PathIndex,\n",
    "    None: None, \n",
    "    types.IO[types.Any]: False,\n",
    "    types.Generator[Path, None, None]: compose(PathIndex, list, concat),\n",
    "    types.Sequence[types._P]: compose(PathIndex, list, concat),\n",
    "    int: Index, os.stat_result: Index,\n",
    "    str: Series, bytes: Series,\n",
    "}"
   ]
  },
  {
   "cell_type": "markdown",
   "metadata": {},
   "source": [
    "## A test drive of `PathIndex`\n"
   ]
  },
  {
   "cell_type": "code",
   "execution_count": 7,
   "metadata": {},
   "outputs": [
    {
     "name": "stdout",
     "output_type": "stream",
     "text": [
      "Index([False, False, True], dtype='object') Index([True, True, True], dtype='object')\n"
     ]
    }
   ],
   "source": [
    "assert all(map(contains(type_mapper.keys()), returns.values()))\n",
    "\n",
    "if __name__ == '__main__':\n",
    "    i = PathIndex(['nbd', 'fidget', '.'])\n",
    "    print(i.exists(), ('../..'/i).exists())"
   ]
  },
  {
   "cell_type": "code",
   "execution_count": 8,
   "metadata": {},
   "outputs": [
    {
     "name": "stdout",
     "output_type": "stream",
     "text": [
      "Index([False, False, True], dtype='object') Index([True, True, True], dtype='object')\n"
     ]
    },
    {
     "data": {
      "text/html": [
       "<div>\n",
       "<table border=\"1\" class=\"dataframe\">\n",
       "  <thead>\n",
       "    <tr style=\"text-align: right;\">\n",
       "      <th></th>\n",
       "      <th></th>\n",
       "      <th>cell_type</th>\n",
       "      <th>execution_count</th>\n",
       "      <th>metadata</th>\n",
       "      <th>outputs</th>\n",
       "      <th>source</th>\n",
       "    </tr>\n",
       "  </thead>\n",
       "  <tbody>\n",
       "    <tr>\n",
       "      <th>../../nbd/readme.ipynb</th>\n",
       "      <th>9</th>\n",
       "      <td>markdown</td>\n",
       "      <td>NaN</td>\n",
       "      <td>{}</td>\n",
       "      <td>NaN</td>\n",
       "      <td>## Developer\\n\\nConfigure the documentation fo...</td>\n",
       "    </tr>\n",
       "    <tr>\n",
       "      <th>../../fidget/testing.ipynb</th>\n",
       "      <th>6</th>\n",
       "      <td>code</td>\n",
       "      <td>7.0</td>\n",
       "      <td>{}</td>\n",
       "      <td>[{'output_type': 'execute_result', 'execution_...</td>\n",
       "      <td>x_()(10)\\nx_()(10, 20)\\nx_()(10, 20, 30)</td>\n",
       "    </tr>\n",
       "    <tr>\n",
       "      <th>../../nbd/readme.ipynb</th>\n",
       "      <th>6</th>\n",
       "      <td>markdown</td>\n",
       "      <td>NaN</td>\n",
       "      <td>{}</td>\n",
       "      <td>NaN</td>\n",
       "      <td>### 2. Execute `nbd`</td>\n",
       "    </tr>\n",
       "    <tr>\n",
       "      <th>../../fidget/readme.ipynb</th>\n",
       "      <th>2</th>\n",
       "      <td>markdown</td>\n",
       "      <td>NaN</td>\n",
       "      <td>{}</td>\n",
       "      <td>NaN</td>\n",
       "      <td>`fidget` includes _most_ of the Python model a...</td>\n",
       "    </tr>\n",
       "    <tr>\n",
       "      <th>../../nbd/nbd.ipynb</th>\n",
       "      <th>2</th>\n",
       "      <td>code</td>\n",
       "      <td>2.0</td>\n",
       "      <td>{}</td>\n",
       "      <td>[]</td>\n",
       "      <td>from nbconvert.nbconvertapp import NbConvertAp...</td>\n",
       "    </tr>\n",
       "  </tbody>\n",
       "</table>\n",
       "</div>"
      ],
      "text/plain": [
       "                             cell_type  execution_count metadata  \\\n",
       "../../nbd/readme.ipynb     9  markdown              NaN       {}   \n",
       "../../fidget/testing.ipynb 6      code              7.0       {}   \n",
       "../../nbd/readme.ipynb     6  markdown              NaN       {}   \n",
       "../../fidget/readme.ipynb  2  markdown              NaN       {}   \n",
       "../../nbd/nbd.ipynb        2      code              2.0       {}   \n",
       "\n",
       "                                                                        outputs  \\\n",
       "../../nbd/readme.ipynb     9                                                NaN   \n",
       "../../fidget/testing.ipynb 6  [{'output_type': 'execute_result', 'execution_...   \n",
       "../../nbd/readme.ipynb     6                                                NaN   \n",
       "../../fidget/readme.ipynb  2                                                NaN   \n",
       "../../nbd/nbd.ipynb        2                                                 []   \n",
       "\n",
       "                                                                         source  \n",
       "../../nbd/readme.ipynb     9  ## Developer\\n\\nConfigure the documentation fo...  \n",
       "../../fidget/testing.ipynb 6           x_()(10)\\nx_()(10, 20)\\nx_()(10, 20, 30)  \n",
       "../../nbd/readme.ipynb     6                               ### 2. Execute `nbd`  \n",
       "../../fidget/readme.ipynb  2  `fidget` includes _most_ of the Python model a...  \n",
       "../../nbd/nbd.ipynb        2  from nbconvert.nbconvertapp import NbConvertAp...  "
      ]
     },
     "execution_count": 8,
     "metadata": {},
     "output_type": "execute_result"
    }
   ],
   "source": [
    "if __name__ == '__main__':\n",
    "    df = ('../..'/i)[:2].glob('*.ipynb').read_text().apply(\n",
    "        __import__('nbformat').reads, args=[4]\n",
    "    ).apply(\n",
    "        compose(DataFrame, get('cells'))\n",
    "    ).pipe(compose(pd.concat, dict, Series.iteritems))\n",
    "    print(i.exists(), ('../..'/i).exists())\n",
    "__name__ == '__main__' and df.sample(5)"
   ]
  },
  {
   "cell_type": "markdown",
   "metadata": {},
   "source": [
    "### Notes\n",
    "\n",
    "* Logic works."
   ]
  }
 ],
 "metadata": {
  "kernelspec": {
   "display_name": "Python 3",
   "language": "python",
   "name": "python3"
  },
  "language_info": {
   "codemirror_mode": {
    "name": "ipython",
    "version": 3
   },
   "file_extension": ".py",
   "mimetype": "text/x-python",
   "name": "python",
   "nbconvert_exporter": "python",
   "pygments_lexer": "ipython3",
   "version": "3.5.3"
  }
 },
 "nbformat": 4,
 "nbformat_minor": 2
}
