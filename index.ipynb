{
 "cells": [
  {
   "cell_type": "markdown",
   "metadata": {},
   "source": [
    "# clog"
   ]
  },
  {
   "cell_type": "code",
   "execution_count": 1,
   "metadata": {},
   "outputs": [
    {
     "data": {
      "text/markdown": [
       "[index.ipynb](index.html)"
      ],
      "text/plain": [
       "<IPython.core.display.Markdown object>"
      ]
     },
     "metadata": {},
     "output_type": "display_data"
    },
    {
     "data": {
      "text/markdown": [
       "[readme.ipynb](readme.html)"
      ],
      "text/plain": [
       "<IPython.core.display.Markdown object>"
      ]
     },
     "metadata": {},
     "output_type": "display_data"
    },
    {
     "data": {
      "text/markdown": [
       "[clog/2017-09-10-Project-Statistics.ipynb](clog/2017-09-10-Project-Statistics.html)"
      ],
      "text/plain": [
       "<IPython.core.display.Markdown object>"
      ]
     },
     "metadata": {},
     "output_type": "display_data"
    },
    {
     "data": {
      "text/markdown": [
       "[clog/2017-09-11-Gaskets-in-a-storm.ipynb](clog/2017-09-11-Gaskets-in-a-storm.html)"
      ],
      "text/plain": [
       "<IPython.core.display.Markdown object>"
      ]
     },
     "metadata": {},
     "output_type": "display_data"
    },
    {
     "data": {
      "text/markdown": [
       "[clog/2017-09-12-Atlanta-Wages.ipynb](clog/2017-09-12-Atlanta-Wages.html)"
      ],
      "text/plain": [
       "<IPython.core.display.Markdown object>"
      ]
     },
     "metadata": {},
     "output_type": "display_data"
    },
    {
     "data": {
      "text/markdown": [
       "[clog/2017-09-14-About-Me.ipynb](clog/2017-09-14-About-Me.html)"
      ],
      "text/plain": [
       "<IPython.core.display.Markdown object>"
      ]
     },
     "metadata": {},
     "output_type": "display_data"
    }
   ],
   "source": [
    "from IPython.display import *; from pathlib import Path\n",
    "for path in Path('.').rglob('*.ipynb'): 'checkpoints' not in str(path) and display(\n",
    "    Markdown(\"[{}]({})\".format(path, path.with_suffix('.html'))))"
   ]
  },
  {
   "cell_type": "code",
   "execution_count": 2,
   "metadata": {},
   "outputs": [
    {
     "name": "stdout",
     "output_type": "stream",
     "text": [
      "[NbConvertApp] Converting notebook clog/2017-09-10-Project-Statistics.ipynb to html\r\n",
      "[NbConvertApp] Writing 286307 bytes to clog/2017-09-10-Project-Statistics.html\r\n",
      "[NbConvertApp] Converting notebook clog/2017-09-11-Gaskets-in-a-storm.ipynb to html\r\n",
      "[NbConvertApp] Writing 483346 bytes to clog/2017-09-11-Gaskets-in-a-storm.html\r\n",
      "[NbConvertApp] Converting notebook clog/2017-09-12-Atlanta-Wages.ipynb to html\r\n",
      "[NbConvertApp] Writing 320466 bytes to clog/2017-09-12-Atlanta-Wages.html\r\n",
      "[NbConvertApp] Converting notebook clog/2017-09-14-About-Me.ipynb to html\r\n",
      "[NbConvertApp] Writing 366415 bytes to clog/2017-09-14-About-Me.html\r\n",
      "[NbConvertApp] Converting notebook readme.ipynb to markdown\r\n",
      "[NbConvertApp] Writing 429 bytes to readme.md\r\n"
     ]
    }
   ],
   "source": [
    "!jupyter nbconvert clog/*.ipynb"
   ]
  }
 ],
 "metadata": {
  "kernelspec": {
   "display_name": "Python 3",
   "language": "python",
   "name": "python3"
  },
  "language_info": {
   "codemirror_mode": {
    "name": "ipython",
    "version": 3
   },
   "file_extension": ".py",
   "mimetype": "text/x-python",
   "name": "python",
   "nbconvert_exporter": "python",
   "pygments_lexer": "ipython3",
   "version": "3.5.3"
  }
 },
 "nbformat": 4,
 "nbformat_minor": 2
}
