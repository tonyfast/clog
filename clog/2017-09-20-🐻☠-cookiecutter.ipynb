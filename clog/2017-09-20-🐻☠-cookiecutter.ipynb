{
 "cells": [
  {
   "cell_type": "markdown",
   "metadata": {},
   "source": [
    "# a bare ☠ approach to c🍪🍪kiecutter\n",
    "\n",
    "[Cookiecutter](https://github.com/audreyr/cookiecutter) rules.  I basically seems like jinja templates of files names and files.  Let's build that."
   ]
  },
  {
   "cell_type": "code",
   "execution_count": 1,
   "metadata": {},
   "outputs": [],
   "source": [
    "from nbconvert import *\n",
    "from toolz.curried import *"
   ]
  },
  {
   "cell_type": "markdown",
   "metadata": {},
   "source": [
    "Use the `nbconvert` jinja environment."
   ]
  },
  {
   "cell_type": "code",
   "execution_count": 2,
   "metadata": {},
   "outputs": [],
   "source": [
    "e = exporters.templateexporter.TemplateExporter()\n",
    "template = compose(e.environment.from_string, str)\n",
    "render =  lambda str, **kw: template(str).render(**kw)"
   ]
  },
  {
   "cell_type": "markdown",
   "metadata": {},
   "source": [
    "Set some reasonable defaults to ticker with."
   ]
  },
  {
   "cell_type": "code",
   "execution_count": 3,
   "metadata": {},
   "outputs": [],
   "source": [
    "from pathlib import Path \n",
    "\n",
    "top, to = Path('template'), Path('template/projectA')\n",
    "ignores = 'checkpoint', 'diffs', str(to), '.DS_Store', '.git'\n",
    "nm = 'Tony Fast'\n",
    "data = dict(name=to.name,author=dict(name=nm, email='.'.join(map(str.lower, nm.split()))+'@gmail.com', user=''.join(map(str.lower, nm.split()))))"
   ]
  },
  {
   "cell_type": "markdown",
   "metadata": {},
   "source": [
    "## Scanner\n",
    "\n",
    "Create a `Scanner` project `name` from `source` ignorning files matching `ignores`.\n",
    "\n",
    "`Scatter.template` templates all `jinja` templates in the files names and files writing to `dir`."
   ]
  },
  {
   "cell_type": "code",
   "execution_count": 4,
   "metadata": {},
   "outputs": [],
   "source": [
    "class Scanner(object):\n",
    "    def __init__(self, name, source='.', ignores=ignores, **data):\n",
    "        self.name, self.source, self.data, self.ignores = name, Path(source), data, ignores\n",
    "        \n",
    "    def template(self, dir='..', **data):\n",
    "        from json import loads, dumps\n",
    "        data = {**data, 'name': self.name}\n",
    "        for path in self:\n",
    "            target = Path(render(dir / path.relative_to(self.source), **data))\n",
    "            \n",
    "            print('Creating {}'.format(target)) or create_parents(target) \n",
    "            \n",
    "            path.is_file() and pipe(\n",
    "                path, Path.read_text, \n",
    "                path.suffix in {'.ipynb', '.json'} and \n",
    "                compose(dumps, partial(dispatchjson, **data), loads) \n",
    "                or partial(render, **data), target.write_text)\n",
    "                    \n",
    "    def __iter__(self):\n",
    "        for _ in self.source.rglob('*'):\n",
    "            if any(ignore in str(_) for ignore in self.ignores): continue\n",
    "            yield _"
   ]
  },
  {
   "cell_type": "markdown",
   "metadata": {},
   "source": [
    "## Utility Functions"
   ]
  },
  {
   "cell_type": "code",
   "execution_count": 5,
   "metadata": {},
   "outputs": [],
   "source": [
    "def create_parents(path, paths=[]):    \n",
    "    \"\"\"Make sure directions exist.\"\"\"\n",
    "    while not path.parent.exists(): path = paths.append(path.parent) or path.parent\n",
    "    while paths: paths.pop(-1).mkdir()\n",
    "\n",
    "def dispatchjson(object, **data):\n",
    "    \"\"\"Tempplate json files.\"\"\"\n",
    "    if type(object) is list: \n",
    "        return list(dispatchjson(_, **data) for _ in object)\n",
    "    if type(object) is dict:\n",
    "        return {dispatchjson(k, **data): dispatchjson(v, **data) for k, v in object.items()}\n",
    "    if type(object) is str: object = render(object, **data)\n",
    "    return object"
   ]
  },
  {
   "cell_type": "code",
   "execution_count": 6,
   "metadata": {},
   "outputs": [
    {
     "name": "stdout",
     "output_type": "stream",
     "text": [
      "fatal: destination path 'template' already exists and is not an empty directory.\r\n",
      "Creating template/projectB/config.ipynb\n",
      "Creating template/projectB/readme.ipynb\n",
      "Creating template/projectB/requirements.txt\n",
      "Creating template/projectB/setup.py\n",
      "Creating template/projectB/projectB\n",
      "Creating template/projectB/projectB/__init__.py\n",
      "Creating template/projectB/projectB/projectB.ipynb\n"
     ]
    }
   ],
   "source": [
    "if __name__ == '__main__':\n",
    "    !git clone https://github.com/tonyfast/template\n",
    "    %rm -rf template/projectB\n",
    "    Scanner('projectB', top).template('template/projectB', description='Demo', **data)"
   ]
  }
 ],
 "metadata": {
  "kernelspec": {
   "display_name": "Python 3",
   "language": "python",
   "name": "python3"
  },
  "language_info": {
   "codemirror_mode": {
    "name": "ipython",
    "version": 3
   },
   "file_extension": ".py",
   "mimetype": "text/x-python",
   "name": "python",
   "nbconvert_exporter": "python",
   "pygments_lexer": "ipython3",
   "version": "3.5.3"
  }
 },
 "nbformat": 4,
 "nbformat_minor": 2
}
