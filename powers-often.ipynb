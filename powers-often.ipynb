{
 "cells": [
  {
   "cell_type": "markdown",
   "metadata": {},
   "source": [
    "# Powers Often\n",
    "\n",
    "In 1977 IBM released \"Powers of Ten\", a short documentary illustrating the state of the art in imaging science from the edge of the universe through complex biological organisms to the subatomic matter in their cell's nuclei. \n",
    "\n",
    "Open source software _often powers_ science in its hunt for complex relationships across space and time.  It supports research of gravitational waves. ... .\n",
    "\n",
    "Complex histories and engineering have matured to a rich open source environment.  A scientists _powers often_ on open source\n",
    "\n",
    "their \n",
    "\n",
    "It supports a global science economy. ... .  This talk discusses how open source software \n",
    "\n",
    "\n",
    "\n",
    "Strap in for an abbreviated history of science and computing since the \"Powers of Ten\".  ... .  The history complex engineering \n",
    "will explore the global science ecosystem and"
   ]
  },
  {
   "cell_type": "code",
   "execution_count": null,
   "metadata": {},
   "outputs": [],
   "source": []
  }
 ],
 "metadata": {
  "kernelspec": {
   "display_name": "Python 3",
   "language": "python",
   "name": "python3"
  },
  "language_info": {
   "codemirror_mode": {
    "name": "ipython",
    "version": 3
   },
   "file_extension": ".py",
   "mimetype": "text/x-python",
   "name": "python",
   "nbconvert_exporter": "python",
   "pygments_lexer": "ipython3",
   "version": "3.5.3"
  }
 },
 "nbformat": 4,
 "nbformat_minor": 2
}
