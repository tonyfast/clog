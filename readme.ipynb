{
 "cells": [
  {
   "cell_type": "code",
   "execution_count": 2,
   "metadata": {},
   "outputs": [
    {
     "name": "stdout",
     "output_type": "stream",
     "text": [
      "[NbConvertApp] Converting notebook readme.ipynb to markdown\r\n",
      "[NbConvertApp] Writing 1368 bytes to readme.md\r\n",
      "[NbConvertApp] Converting notebook config/config.ipynb to python\r\n",
      "[NbConvertApp] Writing 524 bytes to config/config.py\r\n",
      "[Docs] Converting notebook posts/2017-09-10-First-Post.ipynb to html\r\n",
      "[Docs] Writing 253471 bytes to docs/posts/2017-09-10-First-Post.ipynb.html\r\n",
      "[Docs] Converting notebook posts/2017-09-10-Project-Statistics.ipynb to html\r\n",
      "[Docs] Writing 290468 bytes to docs/posts/2017-09-10-Project-Statistics.ipynb.html\r\n",
      "[Docs] Converting notebook posts/2017-09-11-Gaskets-in-a-storm.ipynb to html\r\n",
      "[Docs] Writing 369862 bytes to docs/posts/2017-09-11-Gaskets-in-a-storm.ipynb.html\r\n",
      "[Docs] Converting notebook posts/jupyter4kids.ipynb to html\r\n",
      "[Docs] Writing 268436 bytes to docs/posts/jupyter4kids.ipynb.html\r\n",
      "[Docs] Converting notebook posts/powers-often.ipynb to html\r\n",
      "[Docs] Writing 250242 bytes to docs/posts/powers-often.ipynb.html\r\n",
      "[Docs] Converting notebook into html\r\n",
      "[Docs] Writing 251224 bytes to docs/index.html\r\n",
      "[Docs] Converting notebook into html\r\n",
      "[Docs] Writing 249240 bytes to docs/about.html\r\n"
     ]
    }
   ],
   "source": [
    "!jupyter nbconvert --to markdown readme.ipynb\n",
    "!jupyter nbconvert --to python config/config.ipynb\n",
    "!jupyter nbd --config config/config.py posts/**.ipynb"
   ]
  }
 ],
 "metadata": {
  "kernelspec": {
   "display_name": "Python 3",
   "language": "python",
   "name": "python3"
  },
  "language_info": {
   "codemirror_mode": {
    "name": "ipython",
    "version": 3
   },
   "file_extension": ".py",
   "mimetype": "text/x-python",
   "name": "python",
   "nbconvert_exporter": "python",
   "pygments_lexer": "ipython3",
   "version": "3.5.3"
  }
 },
 "nbformat": 4,
 "nbformat_minor": 2
}
