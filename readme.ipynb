{
 "cells": [
  {
   "cell_type": "code",
   "execution_count": 1,
   "metadata": {},
   "outputs": [
    {
     "name": "stdout",
     "output_type": "stream",
     "text": [
      "[NbConvertApp] Converting notebook readme.ipynb to markdown\r\n",
      "[NbConvertApp] Writing 677 bytes to readme.md\r\n",
      "[NbConvertApp] Converting notebook config/config.ipynb to python\r\n",
      "[NbConvertApp] Writing 533 bytes to config/config.py\r\n",
      "Traceback (most recent call last):\r\n",
      "  File \"/Users/tonyfast/anaconda/bin/jupyter-nbd\", line 11, in <module>\r\n",
      "    load_entry_point('nbd', 'console_scripts', 'jupyter-nbd')()\r\n",
      "  File \"/Users/tonyfast/anaconda/lib/python3.5/site-packages/setuptools-27.2.0-py3.5.egg/pkg_resources/__init__.py\", line 565, in load_entry_point\r\n",
      "  File \"/Users/tonyfast/anaconda/lib/python3.5/site-packages/setuptools-27.2.0-py3.5.egg/pkg_resources/__init__.py\", line 2598, in load_entry_point\r\n",
      "  File \"/Users/tonyfast/anaconda/lib/python3.5/site-packages/setuptools-27.2.0-py3.5.egg/pkg_resources/__init__.py\", line 2258, in load\r\n",
      "  File \"/Users/tonyfast/anaconda/lib/python3.5/site-packages/setuptools-27.2.0-py3.5.egg/pkg_resources/__init__.py\", line 2264, in resolve\r\n",
      "  File \"/Users/tonyfast/nbd/nbd.py\", line 48, in <module>\r\n",
      "    def identity(path, resources: dict=None, **kw) -> t.Tuple[NotebookNode, dict]:\r\n",
      "NameError: name 't' is not defined\r\n"
     ]
    }
   ],
   "source": [
    "!jupyter nbconvert --to markdown readme.ipynb\n",
    "!jupyter nbconvert --to python config/config.ipynb\n",
    "!jupyter nbd --config config/config.py posts/**.ipynb"
   ]
  }
 ],
 "metadata": {
  "kernelspec": {
   "display_name": "Python 3",
   "language": "python",
   "name": "python3"
  },
  "language_info": {
   "codemirror_mode": {
    "name": "ipython",
    "version": 3
   },
   "file_extension": ".py",
   "mimetype": "text/x-python",
   "name": "python",
   "nbconvert_exporter": "python",
   "pygments_lexer": "ipython3",
   "version": "3.5.3"
  }
 },
 "nbformat": 4,
 "nbformat_minor": 2
}
